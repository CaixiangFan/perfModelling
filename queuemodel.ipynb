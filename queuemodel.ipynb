{
 "cells": [
  {
   "cell_type": "markdown",
   "metadata": {},
   "source": [
    "# $M/HYPO_r/1$ queue\n",
    "Arrival rate $\\lambda$\n",
    "\n",
    "perpareTransfer and sendTrytes service rates are $\\mu_1$ and $\\mu_2$, respectively.\n",
    "\n",
    "$Q = \\begin{pmatrix}\n",
    "B_{00} &B_{01}  & 0 & 0 & 0 & \\ldots\\\\ \n",
    "B_{10} & A_{1} & A_{2} & 0 & 0 &\\dots \\\\ \n",
    " 0& A_{0} &  A_{1} & A_{2}  & 0 &\\ldots \\\\ \n",
    " 0&  0& A_{0} &  A_{1}  & A_{2} & \\\\ \n",
    " 0&  0&  0& A_{0} &  A_{1}  & \\ldots\\\\ \n",
    " \\vdots& \\vdots & \\vdots & \\vdots & \\vdots & \\ddots\n",
    "\\end{pmatrix}$\n",
    "\n",
    "- $A_0$: Transitions from state (k, r) to state (k − 1, 1), the transit rate of the last service phase.\n",
    "- $A_1$: The superdiagonal elements of the matrices $A_1$ represent phase completion to state (k + 1, i ). It follows that the only nonzero elements in this matrix are the diagonal elements The diagonal elements are set equal to the negated sum of the off-diagonal elements of Q. All other at rate rμ in service phase i < r at level k > 0, i.e., transitions from state (k, i ) to state (k, i + 1).\n",
    "- $A_2$: The matrices A2 represent arrivals at rate λ which can occur during service at any phase i at any level k > 0, i.e., transitions from state (k, i ) which are all equal to λ.\n",
    "- $B_{01}$: A 1 × r row matrix all of whose elements are zero except for the first which is equal to $\\lambda$. This is the rate of transition from state (0, 0) to state (1, 1) and corresponds to an arrival to an empty system.\n",
    "- $B_{10}$: A r × 1 column matrix all of whose elements are zero except for the last which is equal to $\\mu_r$. This is the rate of transition from state (1, r) to state (0, 0) and corresponds to the complete service termination of the only customer in the system.\n",
    "- $B_{00}$: A 1×1 matrix whose nonzero element is $-\\lambda$ and reflects the fact that the sum across the first row must be zero.\n",
    "\n",
    "$A_0=\\begin{pmatrix}\n",
    "0 & 0  & 0 & 0 & \\ldots & 0\\\\ \n",
    "0 & 0 & 0 & \\ldots & \\ldots &0 \\\\ \n",
    " 0& 0 &  0 & 0  & \\ldots &0 \\\\ \n",
    " 0&  0& 0 &  0  & \\ldots & 0\\\\ \n",
    " \\vdots& \\vdots & \\vdots & \\vdots &\\ddots & \\vdots\\\\ \n",
    " \\mu_r & 0 & 0 & 0 & \\ldots & 0\n",
    "\\end{pmatrix}$,$A_2=\\lambda I_r$, $A_1 = \\begin{pmatrix}\n",
    "-\\lambda-\\mu_1 & \\mu_1  & 0 & 0 & \\ldots & 0\\\\ \n",
    "0 & -\\lambda-\\mu_2 & \\mu_2 & 0 & \\ldots &0 \\\\ \n",
    "0 & 0 &  -\\lambda-\\mu_3 & \\mu_3  & \\ldots &0 \\\\ \n",
    "\\vdots& \\vdots & \\vdots & \\ddots &\\ddots & \\vdots\\\\ \n",
    "0&  0& 0 &  0  & \\vdots & \\mu_{r-1}\\\\\n",
    " 0 & 0 & 0 & 0 & \\ldots & -\\lambda-\\mu_r\n",
    "\\end{pmatrix}$\n",
    "\n",
    "$B_{00}=-\\lambda$,$B_{01}=\\begin{pmatrix}\n",
    "\\lambda & 0 & 0 & \\ldots & 0\n",
    "\\end{pmatrix}$,$B_{10}=\\begin{pmatrix}\n",
    "0\\\\ \n",
    "0\\\\  \n",
    "\\vdots\\\\ \n",
    "0 \\\\\n",
    "\\mu_r\n",
    "\\end{pmatrix}$\n"
   ]
  },
  {
   "cell_type": "code",
   "execution_count": 41,
   "metadata": {},
   "outputs": [],
   "source": [
    "import numpy as np\n",
    "from numpy import kron,eye,multiply"
   ]
  },
  {
   "cell_type": "code",
   "execution_count": 69,
   "metadata": {},
   "outputs": [],
   "source": [
    "## H_2 Arrival Process:\n",
    "alpha1 = 0.4\n",
    "alpha2 = 0.6\n",
    "lambda1 = 1\n",
    "lambda2 = 2\n",
    "T = [[-lambda1, 0], \n",
    "     [0, -lambda2]]\n",
    "T0 = [[lambda1],[lambda2]]\n",
    "xi = [alpha1, alpha2]"
   ]
  },
  {
   "cell_type": "code",
   "execution_count": 70,
   "metadata": {},
   "outputs": [],
   "source": [
    "## E_3 Service Process:\n",
    "mu1=4\n",
    "mu2=8\n",
    "mu3=8\n",
    "S = [[-mu1, mu1, 0],\n",
    "     [0, -mu2, mu2],\n",
    "     [0,0, -mu3]]\n",
    "S0 = [[0],[0],[mu3]]\n",
    "sigma = [1,0,0]"
   ]
  },
  {
   "cell_type": "code",
   "execution_count": 71,
   "metadata": {},
   "outputs": [
    {
     "name": "stdout",
     "output_type": "stream",
     "text": [
      "0.19999999999999998\n"
     ]
    }
   ],
   "source": [
    "## Block Submatrices for all types of queues:\n",
    "ra = len(T[0])\n",
    "rs = len(S[0])\n",
    "A0 = kron(eye(ra), multiply(S0,sigma))\n",
    "A1 = kron(T, eye(rs)) + kron(eye(ra), S)\n",
    "A2 = kron(multiply(T0,xi), eye(rs))\n",
    "B00 = T\n",
    "B01 = kron(multiply(T0,xi),sigma)\n",
    "B10 = kron(eye(ra),S0)\n",
    "l = len(B00[0])\n",
    "r = len(A0[0])\n",
    "\n",
    "# Form Neuts’ R matrix  \n",
    "V = multiply(A2, np.linalg.inv(A1))\n",
    "W = multiply(A0, np.linalg.inv(A1))\n",
    "R = np.zeros((r,r)) \n",
    "Rbis = -V - multiply(multiply(R,R), W)\n",
    "n = 1\n",
    "err = 1.0e-10\n",
    "while (np.linalg.norm(R-Rbis,1) > err):\n",
    "    R = Rbis\n",
    "    Rbis = -V - multiply(multiply(R,R), W)\n",
    "    n = n+1\n",
    "R = Rbis"
   ]
  },
  {
   "cell_type": "code",
   "execution_count": 61,
   "metadata": {},
   "outputs": [],
   "source": [
    "# M/HYPO2/1\n",
    "\n",
    "## M Arrival Process:\n",
    "lambda1 = 2\n",
    "T = [-lambda1]\n",
    "T0 = [lambda1]\n",
    "xi = [1]\n",
    "\n",
    "## E_2 Service Process:\n",
    "mu1=8\n",
    "mu2=4\n",
    "S = [[-mu1, mu1],\n",
    "     [0, -mu2]]\n",
    "S0 = [[0],[mu2]]\n",
    "sigma = [1,0]"
   ]
  },
  {
   "cell_type": "code",
   "execution_count": 62,
   "metadata": {},
   "outputs": [],
   "source": [
    "## Block Submatrices for all types of queues:\n",
    "ra = len(T)\n",
    "rs = len(S[0])\n",
    "A0 = kron(eye(ra), multiply(S0,sigma))\n",
    "A1 = kron(T, eye(rs)) + kron(eye(ra), S)\n",
    "A2 = kron(multiply(T0,xi), eye(rs))\n",
    "B00 = T\n",
    "B01 = kron(multiply(T0,xi),sigma)\n",
    "B10 = kron(eye(ra),S0)\n",
    "l = len(B00)\n",
    "r = len(A0[0])"
   ]
  },
  {
   "cell_type": "code",
   "execution_count": 63,
   "metadata": {},
   "outputs": [
    {
     "name": "stdout",
     "output_type": "stream",
     "text": [
      "A0: [[0. 0.]\n",
      " [4. 0.]] \n",
      " A1: [[-10.   8.]\n",
      " [  0.  -6.]] \n",
      " A2: [[2. 0.]\n",
      " [0. 2.]] \n",
      " B00: [-2] \n",
      " B01: [2 0] \n",
      " B10: [[0.]\n",
      " [4.]]\n"
     ]
    }
   ],
   "source": [
    "print(\"A0:\",A0,'\\n',\"A1:\",A1,'\\n',\"A2:\",A2,'\\n',\"B00:\",B00,'\\n',\"B01:\",B01,'\\n',\"B10:\",B10)"
   ]
  },
  {
   "cell_type": "code",
   "execution_count": 64,
   "metadata": {},
   "outputs": [
    {
     "name": "stdout",
     "output_type": "stream",
     "text": [
      "0.3333333333333333\n"
     ]
    }
   ],
   "source": [
    "# Form Neuts’ R matrix  \n",
    "V = multiply(A2, np.linalg.inv(A1))\n",
    "W = multiply(A0, np.linalg.inv(A1))\n",
    "R = np.zeros((r,r)) \n",
    "Rbis = -V - multiply(multiply(R,R), W)\n",
    "n = 1\n",
    "err = 1.0e-10\n",
    "while (np.linalg.norm(R-Rbis,1) > err):\n",
    "    print(np.linalg.norm(R-Rbis,1))\n",
    "    R = Rbis\n",
    "    Rbis = -V - multiply(multiply(R,R), W)\n",
    "    n = n+1\n",
    "R = Rbis"
   ]
  },
  {
   "cell_type": "code",
   "execution_count": 68,
   "metadata": {},
   "outputs": [
    {
     "data": {
      "text/plain": [
       "array([[0.2       , 0.        ],\n",
       "       [0.        , 0.33333333]])"
      ]
     },
     "execution_count": 68,
     "metadata": {},
     "output_type": "execute_result"
    }
   ],
   "source": [
    "R"
   ]
  },
  {
   "cell_type": "code",
   "execution_count": 66,
   "metadata": {},
   "outputs": [
    {
     "data": {
      "text/plain": [
       "array([[-0.2       , -0.        ],\n",
       "       [-0.        , -0.33333333]])"
      ]
     },
     "execution_count": 66,
     "metadata": {},
     "output_type": "execute_result"
    }
   ],
   "source": [
    "V"
   ]
  },
  {
   "cell_type": "code",
   "execution_count": 67,
   "metadata": {},
   "outputs": [
    {
     "data": {
      "text/plain": [
       "array([[-0., -0.],\n",
       "       [-0., -0.]])"
      ]
     },
     "execution_count": 67,
     "metadata": {},
     "output_type": "execute_result"
    }
   ],
   "source": [
    "W"
   ]
  },
  {
   "cell_type": "code",
   "execution_count": 74,
   "metadata": {},
   "outputs": [],
   "source": [
    "## M Arrival Process:\n",
    "lambda1 = 1\n",
    "T = [-lambda1]\n",
    "T0 = [lambda1]\n",
    "xi = [1]\n",
    "\n",
    "## E_2 Service Process:\n",
    "r = 3\n",
    "mu = 1.5\n",
    "mu1,mu2,mu3 = r*mu, r*mu, r*mu\n",
    "\n",
    "S = [[-mu1, mu1,0],\n",
    "     [0, -mu2,mu2],\n",
    "    [0,0,-mu3]]\n",
    "S0 = [[0],[0],[mu3]]\n",
    "sigma = [1,0,0]\n",
    "\n",
    "## Block Submatrices for all types of queues:\n",
    "ra = len(T)\n",
    "rs = len(S[0])\n",
    "A0 = kron(eye(ra), multiply(S0,sigma))\n",
    "A1 = kron(T, eye(rs)) + kron(eye(ra), S)\n",
    "A2 = kron(multiply(T0,xi), eye(rs))\n",
    "B00 = T\n",
    "B01 = kron(multiply(T0,xi),sigma)\n",
    "B10 = kron(eye(ra),S0)\n",
    "l = len(B00)\n",
    "r = len(A0[0])"
   ]
  },
  {
   "cell_type": "code",
   "execution_count": 87,
   "metadata": {},
   "outputs": [
    {
     "data": {
      "text/plain": [
       "array([[1., 0., 0.],\n",
       "       [0., 1., 0.],\n",
       "       [0., 0., 1.]])"
      ]
     },
     "execution_count": 87,
     "metadata": {},
     "output_type": "execute_result"
    }
   ],
   "source": [
    "A2"
   ]
  },
  {
   "cell_type": "code",
   "execution_count": 81,
   "metadata": {},
   "outputs": [
    {
     "name": "stdout",
     "output_type": "stream",
     "text": [
      "0.18181818181818182\n"
     ]
    }
   ],
   "source": [
    "# Form Neuts’ R matrix  \n",
    "V = multiply(A2, np.linalg.inv(A1))\n",
    "W = multiply(A0, np.linalg.inv(A1))\n",
    "R = np.zeros((r,r)) \n",
    "Rbis = -V - multiply(multiply(R,R), W)\n",
    "n = 1\n",
    "err = 1.0e-10\n",
    "while (np.linalg.norm(R-Rbis,1) > err):\n",
    "    print(np.linalg.norm(R-Rbis,1))\n",
    "    R = Rbis\n",
    "    Rbis = -V - multiply(multiply(R,R), W)\n",
    "    n = n+1\n",
    "R = Rbis"
   ]
  },
  {
   "cell_type": "code",
   "execution_count": 84,
   "metadata": {},
   "outputs": [
    {
     "data": {
      "text/plain": [
       "array([[-0.18181818, -0.14876033, -0.121713  ],\n",
       "       [-0.        , -0.18181818, -0.14876033],\n",
       "       [-0.        , -0.        , -0.18181818]])"
      ]
     },
     "execution_count": 84,
     "metadata": {},
     "output_type": "execute_result"
    }
   ],
   "source": [
    "np.linalg.inv(A1)"
   ]
  },
  {
   "cell_type": "code",
   "execution_count": 85,
   "metadata": {},
   "outputs": [
    {
     "data": {
      "text/plain": [
       "array([[-0.18181818, -0.        , -0.        ],\n",
       "       [-0.        , -0.18181818, -0.        ],\n",
       "       [-0.        , -0.        , -0.18181818]])"
      ]
     },
     "execution_count": 85,
     "metadata": {},
     "output_type": "execute_result"
    }
   ],
   "source": [
    "multiply(A2, np.linalg.inv(A1))"
   ]
  },
  {
   "cell_type": "code",
   "execution_count": 86,
   "metadata": {},
   "outputs": [
    {
     "data": {
      "text/plain": [
       "array([[1., 0., 0.],\n",
       "       [0., 1., 0.],\n",
       "       [0., 0., 1.]])"
      ]
     },
     "execution_count": 86,
     "metadata": {},
     "output_type": "execute_result"
    }
   ],
   "source": [
    "A2"
   ]
  },
  {
   "cell_type": "code",
   "execution_count": null,
   "metadata": {},
   "outputs": [],
   "source": []
  }
 ],
 "metadata": {
  "kernelspec": {
   "display_name": "Python 3.9.0",
   "language": "python",
   "name": "python3.9"
  },
  "language_info": {
   "codemirror_mode": {
    "name": "ipython",
    "version": 3
   },
   "file_extension": ".py",
   "mimetype": "text/x-python",
   "name": "python",
   "nbconvert_exporter": "python",
   "pygments_lexer": "ipython3",
   "version": "3.9.0"
  }
 },
 "nbformat": 4,
 "nbformat_minor": 4
}
