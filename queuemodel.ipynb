{
 "cells": [
  {
   "cell_type": "markdown",
   "metadata": {},
   "source": [
    "# $M/HYPO_r/1$ queue\n",
    "Arrival rate $\\lambda$\n",
    "\n",
    "perpareTransfer and sendTrytes service rates are $\\mu_1$ and $\\mu_2$, respectively.\n",
    "\n",
    "$Q = \\begin{pmatrix}\n",
    "B_{00} &B_{01}  & 0 & 0 & 0 & \\ldots\\\\ \n",
    "B_{10} & A_{1} & A_{2} & 0 & 0 &\\dots \\\\ \n",
    " 0& A_{0} &  A_{1} & A_{2}  & 0 &\\ldots \\\\ \n",
    " 0&  0& A_{0} &  A_{1}  & A_{2} & \\\\ \n",
    " 0&  0&  0& A_{0} &  A_{1}  & \\ldots\\\\ \n",
    " \\vdots& \\vdots & \\vdots & \\vdots & \\vdots & \\ddots\n",
    "\\end{pmatrix}$\n",
    "\n",
    "- $A_0$: Transitions from state (k, r) to state (k − 1, 1), the transit rate of the last service phase.\n",
    "- $A_1$: The superdiagonal elements of the matrices $A_1$ represent phase completion to state (k + 1, i ). It follows that the only nonzero elements in this matrix are the diagonal elements The diagonal elements are set equal to the negated sum of the off-diagonal elements of Q. All other at rate rμ in service phase i < r at level k > 0, i.e., transitions from state (k, i ) to state (k, i + 1).\n",
    "- $A_2$: The matrices A2 represent arrivals at rate λ which can occur during service at any phase i at any level k > 0, i.e., transitions from state (k, i ) which are all equal to λ.\n",
    "- $B_{01}$: A 1 × r row matrix all of whose elements are zero except for the first which is equal to $\\lambda$. This is the rate of transition from state (0, 0) to state (1, 1) and corresponds to an arrival to an empty system.\n",
    "- $B_{10}$: A r × 1 column matrix all of whose elements are zero except for the last which is equal to $\\mu_r$. This is the rate of transition from state (1, r) to state (0, 0) and corresponds to the complete service termination of the only customer in the system.\n",
    "- $B_{00}$: A 1×1 matrix whose nonzero element is $-\\lambda$ and reflects the fact that the sum across the first row must be zero.\n",
    "\n",
    "$A_0=\\begin{pmatrix}\n",
    "0 & 0  & 0 & 0 & \\ldots & 0\\\\ \n",
    "0 & 0 & 0 & \\ldots & \\ldots &0 \\\\ \n",
    " 0& 0 &  0 & 0  & \\ldots &0 \\\\ \n",
    " 0&  0& 0 &  0  & \\ldots & 0\\\\ \n",
    " \\vdots& \\vdots & \\vdots & \\vdots &\\ddots & \\vdots\\\\ \n",
    " \\mu_r & 0 & 0 & 0 & \\ldots & 0\n",
    "\\end{pmatrix}$,$A_2=\\lambda I_r$, $A_1 = \\begin{pmatrix}\n",
    "-\\lambda-\\mu_1 & \\mu_1  & 0 & 0 & \\ldots & 0\\\\ \n",
    "0 & -\\lambda-\\mu_2 & \\mu_2 & 0 & \\ldots &0 \\\\ \n",
    "0 & 0 &  -\\lambda-\\mu_3 & \\mu_3  & \\ldots &0 \\\\ \n",
    "\\vdots& \\vdots & \\vdots & \\ddots &\\ddots & \\vdots\\\\ \n",
    "0&  0& 0 &  0  & \\vdots & \\mu_{r-1}\\\\\n",
    " 0 & 0 & 0 & 0 & \\ldots & -\\lambda-\\mu_r\n",
    "\\end{pmatrix}$\n",
    "\n",
    "$B_{00}=-\\lambda$,$B_{01}=\\begin{pmatrix}\n",
    "\\lambda & 0 & 0 & \\ldots & 0\n",
    "\\end{pmatrix}$,$B_{10}=\\begin{pmatrix}\n",
    "0\\\\ \n",
    "0\\\\  \n",
    "\\vdots\\\\ \n",
    "0 \\\\\n",
    "\\mu_r\n",
    "\\end{pmatrix}$\n"
   ]
  },
  {
   "cell_type": "markdown",
   "metadata": {},
   "source": [
    "## block submatrices $A_i/B_i$ experssed by partitioned matrices\n",
    "For a Ph/Ph/1 queue with ra phases in the description of the arrival process and rs phases in the description of the service process, the block submatrices required for the application of the matrix geometric approach are given by:\n",
    "\n",
    "$A_0=I_{r_a}\\otimes (S^{0}\\cdot \\sigma ),\n",
    "A_1=T\\otimes I_{r_s}+I_{r_a}\\otimes S,\n",
    "A_2=(T^{0}\\otimes \\xi)\\otimes I_{r_s},$\n",
    "\n",
    "$\n",
    "B_{00}=T,\n",
    "B_{01}=(T^{0}\\cdot \\xi)\\otimes \\sigma,\n",
    "B_{10}=I_{r_a}\\otimes S^{0}$\n",
    "\n",
    "where\n",
    "\n",
    "${S}'=\\left(\\begin{array}{@{}ccccc|c@{}}\n",
    "    -\\mu_{1} & \\mu_{1} & 0 & 0 & 0 & 0 \\\\\n",
    "    0 & -\\mu_{2} & \\mu_{2} & 0 & 0 & 0 \\\\\n",
    "    0 & 0 & -\\mu_{3} & \\mu_{3} & 0 & 0 \\\\\n",
    "    \\vdots & \\vdots & \\vdots & \\ddots & \\vdots& \\vdots \\\\\n",
    "    0 & 0 & 0 & 0 & -\\mu_{r_a}  & \\mu_{r_a} \\\\\\hline    \n",
    "    0 & 0 & 0 & 0 & 0 & 0 \n",
    "  \\end{array}\\right)\n",
    "=\\begin{pmatrix}\n",
    "S & S^{0}\\\\ \n",
    "0 & 0\n",
    "\\end{pmatrix}$,\n",
    "${\\sigma }'=\\left ( \\begin{array}{@{}ccccc|c@{}} \n",
    "1&0&0&\\ldots &0&0\n",
    "\\end{array}\\right )=\\begin{pmatrix}\n",
    "\\sigma  & 0\n",
    "\\end{pmatrix}$\n",
    "\n",
    "\n",
    "${T}'=\\left(\\begin{array}{@{}cccc|c@{}}\n",
    "    -\\lambda_{1} & 0 &  0 & 0 & \\lambda_{1} \\\\\n",
    "    0 & -\\lambda_{2} &  0 & 0 & \\lambda_{2}  \\\\\n",
    "    \\vdots & \\vdots & \\vdots & \\vdots& \\vdots \\\\\n",
    "    0 & 0 & 0 & -\\lambda_{r_s}  & \\lambda_{r_s}  \\\\\\hline    \n",
    "    0 & 0 & 0 & 0 & 0 \n",
    "  \\end{array}\\right)\n",
    "=\\begin{pmatrix}\n",
    "T & T^{0}\\\\ \n",
    "0 & 0\n",
    "\\end{pmatrix}$,\n",
    "${\\xi }'=\\left ( \\begin{array}{@{}ccccc|c@{}} \n",
    "\\alpha_1&\\alpha_2&\\alpha_3&\\ldots &\\alpha_{r_s}&0\n",
    "\\end{array}\\right )=\\begin{pmatrix}\n",
    "\\xi  & 0\n",
    "\\end{pmatrix}$"
   ]
  },
  {
   "cell_type": "code",
   "execution_count": 1,
   "metadata": {},
   "outputs": [],
   "source": [
    "import numpy as np\n",
    "import matplotlib.pyplot as plt\n",
    "from numpy import kron,eye,zeros,ones,multiply,dot\n",
    "from numpy.linalg import inv,norm,matrix_power\n",
    "\n",
    "from utils import ProcHarData, ProcLocustData"
   ]
  },
  {
   "cell_type": "code",
   "execution_count": 15,
   "metadata": {},
   "outputs": [],
   "source": [
    "class PhQueue:\n",
    "    \n",
    "    def __init__(self,lambda1,mu1,mu2):\n",
    "        self.lambda1 = lambda1\n",
    "        self.T = np.array([-lambda1])\n",
    "        self.T0 = np.array([lambda1])\n",
    "        self.xi = np.array([1])\n",
    "        \n",
    "        self.mu1 = mu1\n",
    "        self.mu2 = mu2\n",
    "        self.S = np.array([[-mu1, mu1],[0, -mu2]])\n",
    "        self.S0 = np.array([[0],[mu2]])\n",
    "        self.sigma = np.array([1,0])\n",
    "        \n",
    "        self.ra = len(self.T)\n",
    "        self.rs = len(self.S[0])\n",
    "        self.A0 = kron(eye(self.ra), multiply(self.S0,self.sigma))\n",
    "        self.A1 = kron(self.T, eye(self.rs)) + kron(eye(self.ra), self.S)\n",
    "        self.A2 = kron(multiply(self.T0,self.xi), eye(self.rs))\n",
    "        self.B00 = self.T\n",
    "        self.B01 = kron(multiply(self.T0,self.xi),self.sigma)\n",
    "        self.B10 = kron(eye(self.ra),self.S0)\n",
    "        self.l = len(self.B00)\n",
    "        self.r = len(self.A0[0])\n",
    "    \n",
    "        \n",
    "    def formBeutsRMatrix(self,err=1.0e-10):\n",
    "        V = dot(self.A2, inv(self.A1))\n",
    "        W = dot(self.A0, inv(self.A1))\n",
    "        R = zeros((self.r,self.r)) \n",
    "        Rbis = -V - dot(dot(R,R), W)\n",
    "        n = 1\n",
    "        while (norm(R-Rbis,1) > err):\n",
    "            R = Rbis\n",
    "            Rbis = -V - dot(dot(R,R), W)\n",
    "            n = n+1\n",
    "        R = Rbis\n",
    "        return R\n",
    "    \n",
    "    \n",
    "    def checkStability(self):\n",
    "        meanLambda = self.lambda1\n",
    "#         meanMu = 1/norm(-self.sigma * inv(self.S),1)\n",
    "        meanMu = 1/(1/self.mu1+1/self.mu2)\n",
    "        rho = meanLambda/meanMu\n",
    "        return rho\n",
    "        \n",
    "        \n",
    "    def solveBounaryEquations(self):\n",
    "        R = self.formBeutsRMatrix()\n",
    "        \n",
    "        head = np.concatenate((np.array(self.B00),self.B01),axis=0)\n",
    "        tail = np.concatenate((self.B10,self.A1+dot(R,self.A0)),axis=1)\n",
    "        N = np.vstack((head,tail))\n",
    "        r = self.r\n",
    "        N[0,r] = 1\n",
    "        for k in range(1,r+1):\n",
    "            N[k,r]=0\n",
    "\n",
    "        rhs = zeros(r+1)\n",
    "        rhs[r] = 1\n",
    "\n",
    "        soln = dot(rhs,inv(N))\n",
    "        pi0 = soln[:1]\n",
    "        pi1 = soln[1:]\n",
    "\n",
    "        e = ones((r,1))\n",
    "        sumation = norm(pi0,1) + dot(dot(pi1, inv(eye(r)-R)), e)\n",
    "        pi0 = pi0/sumation\n",
    "        pi1 = pi1/sumation\n",
    "        return pi0,pi1\n",
    "        \n",
    "    def printRes(self,max=10):\n",
    "        R = self.formBeutsRMatrix()\n",
    "        pi0,pi1 = self.solveBounaryEquations()\n",
    "        \n",
    "        pop = zeros((max+1,1))\n",
    "        pop[0,0] = norm(pi0,1)\n",
    "        for k in range(1,max+1):\n",
    "            pi = pi1 * matrix_power(R,(k-1)) # Get successive components of pi\n",
    "            pop[k,0] = norm(pi,1)\n",
    "        print(pop)\n",
    "        \n",
    "        \n",
    "    def measurePerf(self):\n",
    "        R = self.formBeutsRMatrix()\n",
    "        _,pi1 = self.solveBounaryEquations()\n",
    "        \n",
    "        EN = norm(pi1*(matrix_power(eye(self.r)-R,-2)),1)\n",
    "        ER = EN/self.lambda1\n",
    "        return EN,ER"
   ]
  },
  {
   "cell_type": "code",
   "execution_count": 46,
   "metadata": {},
   "outputs": [
    {
     "name": "stdout",
     "output_type": "stream",
     "text": [
      "15 EN: 0.03183047265948359  ER: 0.0021220315106322395  rho: 0.06\n",
      "35 EN: 0.08025662871806895  ER: 0.00229304653480197  rho: 0.14\n",
      "55 EN: 0.1363024680701497  ER: 0.00247822669218454  rho: 0.22\n",
      "75 EN: 0.20137633927519236  ER: 0.002685017857002565  rho: 0.3\n",
      "95 EN: 0.277866177219592  ER: 0.002924907128627284  rho: 0.38\n",
      "115 EN: 0.36988787827974146  ER: 0.003216416332867317  rho: 0.46\n",
      "135 EN: 0.4872926477774574  ER: 0.0036095751687219065  rho: 0.54\n",
      "155 EN: 0.6724949630128549  ER: 0.0043386771807280965  rho: 0.62\n"
     ]
    }
   ],
   "source": [
    "lambdas,mu1,mu2 = np.arange(15,175,20),500,500\n",
    "ls_EN, ls_ER, ls_rho = [],[],[]\n",
    "for lam in lambdas:\n",
    "    queue = PhQueue(lam,mu1,mu2)\n",
    "    EN,ER = queue.measurePerf()\n",
    "    rho = queue.checkStability()\n",
    "    ls_EN.append(EN)\n",
    "    ls_ER.append(ER)\n",
    "    ls_rho.append(rho)\n",
    "    print(lam,'EN:',EN, ' ER:', ER, ' rho:', rho)"
   ]
  },
  {
   "cell_type": "code",
   "execution_count": 47,
   "metadata": {},
   "outputs": [
    {
     "data": {
      "image/png": "[encoded data removed]",
      "text/plain": [
       "<Figure size 432x288 with 1 Axes>"
      ]
     },
     "metadata": {
      "needs_background": "light"
     },
     "output_type": "display_data"
    }
   ],
   "source": [
    "fig,ax = plt.subplots()\n",
    "\n",
    "ax.plot(lambdas,ls_ER, marker='o',label='model ER')\n",
    "ax.set_xticks(lambdas)\n",
    "ax.set_xlabel(\"transaction arrival rate $\\lambda$\")\n",
    "ax.set_ylabel(\"mean response time (s)\")\n",
    "ax.set_title(\"A test graph\")\n",
    "ax.legend()\n",
    "\n",
    "fig.show()"
   ]
  },
  {
   "cell_type": "markdown",
   "metadata": {},
   "source": [
    "## Rh Symbolic solution\n",
    "$R_h=\\begin{pmatrix}\n",
    "\\frac{\\lambda(\\lambda+\\mu_2)}{\\mu_1\\mu_2} & \\frac{\\lambda}{\\mu_2}\\\\ \n",
    "\\frac{\\lambda^2}{\\mu_1\\mu_2} & \\frac{\\lambda}{\\mu_2}\n",
    "\\end{pmatrix}$"
   ]
  },
  {
   "cell_type": "code",
   "execution_count": 262,
   "metadata": {},
   "outputs": [
    {
     "data": {
      "text/plain": [
       "array([[0.15625, 0.25   ],\n",
       "       [0.03125, 0.25   ]])"
      ]
     },
     "execution_count": 262,
     "metadata": {},
     "output_type": "execute_result"
    }
   ],
   "source": [
    "Rh = np.array([[lambda1*(lambda1+mu2)/(mu1*mu2),lambda1/mu2],\n",
    "      [np.power(lambda1,2)/(mu1*mu2),lambda1/mu2]])\n",
    "Rh"
   ]
  },
  {
   "cell_type": "code",
   "execution_count": 5,
   "metadata": {},
   "outputs": [],
   "source": [
    "filename = 'data/locustdata.xlsx'\n",
    "tasks = ['prepareTransfer', 'sendTrytes','sendTransfer', 'ts', 'pow', 'bc']\n",
    "\n",
    "locust = ProcLocustData(filename,tasks[2])\n",
    "df = locust.load2DF()"
   ]
  },
  {
   "cell_type": "code",
   "execution_count": 60,
   "metadata": {},
   "outputs": [],
   "source": [
    "def plotComparison(lambdas,ls_ER,meanRTS):\n",
    "    fig,ax = plt.subplots(figsize=(18,5))\n",
    "    ax.plot(lambdas,ls_ER, marker='o',label='model mean response time')\n",
    "    ax.plot(lambdas,meanRTS,marker='*',label='test mean response time')\n",
    "    ax.set_xticks(lambdas)\n",
    "    ax.set_xlabel(\"transaction arrival rate $\\lambda$\")\n",
    "    ax.set_ylabel(\"mean response time (s)\")\n",
    "    ax.set_title(\"Mean response time comparison in varing arrival rates\")\n",
    "    ax.legend()\n",
    "    fig.show()"
   ]
  },
  {
   "cell_type": "code",
   "execution_count": 61,
   "metadata": {},
   "outputs": [
    {
     "name": "stdout",
     "output_type": "stream",
     "text": [
      "1.18 EN: 0.13482070090287565  ER: 0.11425483127362344  rho: 0.19155844155844154\n",
      "3.12 EN: 0.5364089747714328  ER: 0.1719259534523823  rho: 0.5064935064935066\n",
      "4.48 EN: 1.2252609056535961  ER: 0.27349573786910625  rho: 0.7272727272727273\n",
      "5.24 EN: 2.384812016461393  ER: 0.45511679703461694  rho: 0.8506493506493507\n",
      "5.33 EN: 2.657173247434054  ER: 0.4985315661227118  rho: 0.8652597402597403\n",
      "5.57 EN: 3.782210712628981  ER: 0.6790324439190271  rho: 0.9042207792207793\n",
      "5.58 EN: 3.849060250761854  ER: 0.6897957438641316  rho: 0.9058441558441558\n",
      "5.81 EN: 6.432879315990849  ER: 1.1072081438882702  rho: 0.9431818181818181\n",
      "6.04 EN: 18.87935950616555  ER: 3.125721772543965  rho: 0.9805194805194805\n"
     ]
    },
    {
     "data": {
      "image/png": "[encoded data removed]",
      "text/plain": [
       "<Figure size 1296x360 with 1 Axes>"
      ]
     },
     "metadata": {
      "needs_background": "light"
     },
     "output_type": "display_data"
    }
   ],
   "source": [
    "mu1,mu2 = 14,11\n",
    "\n",
    "df = df.sort_values(by='Requests/s')\n",
    "lambdas = np.round(df['Requests/s'].values,2)\n",
    "meanRTS = (df['Total Average Response Time']/1000).values\n",
    "\n",
    "ls_EN, ls_ER, ls_rho = [],[],[]\n",
    "for lam in lambdas:\n",
    "    queue = PhQueue(lam,mu1,mu2)\n",
    "    EN,ER = queue.measurePerf()\n",
    "    rho = queue.checkStability()\n",
    "    ls_EN.append(EN)\n",
    "    ls_ER.append(ER)\n",
    "    ls_rho.append(rho)\n",
    "    print(lam,'EN:',EN, ' ER:', ER, ' rho:', rho)\n",
    "plotComparison(lambdas,ls_ER,meanRTS)"
   ]
  },
  {
   "cell_type": "code",
   "execution_count": null,
   "metadata": {},
   "outputs": [],
   "source": []
  }
 ],
 "metadata": {
  "kernelspec": {
   "display_name": "Python 3.9.0",
   "language": "python",
   "name": "python3.9"
  },
  "language_info": {
   "codemirror_mode": {
    "name": "ipython",
    "version": 3
   },
   "file_extension": ".py",
   "mimetype": "text/x-python",
   "name": "python",
   "nbconvert_exporter": "python",
   "pygments_lexer": "ipython3",
   "version": "3.9.0"
  }
 },
 "nbformat": 4,
 "nbformat_minor": 4
}
