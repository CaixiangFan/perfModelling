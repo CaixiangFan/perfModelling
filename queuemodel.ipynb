{
 "cells": [
  {
   "cell_type": "markdown",
   "metadata": {},
   "source": [
    "# $M/HYPO_r/1$ queue\n",
    "Arrival rate $\\lambda$\n",
    "\n",
    "perpareTransfer and sendTrytes service rates are $\\mu_1$ and $\\mu_2$, respectively.\n",
    "\n",
    "$Q = \\begin{pmatrix}\n",
    "B_{00} &B_{01}  & 0 & 0 & 0 & \\ldots\\\\ \n",
    "B_{10} & A_{1} & A_{2} & 0 & 0 &\\dots \\\\ \n",
    " 0& A_{0} &  A_{1} & A_{2}  & 0 &\\ldots \\\\ \n",
    " 0&  0& A_{0} &  A_{1}  & A_{2} & \\\\ \n",
    " 0&  0&  0& A_{0} &  A_{1}  & \\ldots\\\\ \n",
    " \\vdots& \\vdots & \\vdots & \\vdots & \\vdots & \\ddots\n",
    "\\end{pmatrix}$\n",
    "\n",
    "- $A_0$: Transitions from state (k, r) to state (k − 1, 1), the transit rate of the last service phase.\n",
    "- $A_1$: The superdiagonal elements of the matrices $A_1$ represent phase completion to state (k + 1, i ). It follows that the only nonzero elements in this matrix are the diagonal elements The diagonal elements are set equal to the negated sum of the off-diagonal elements of Q. All other at rate rμ in service phase i < r at level k > 0, i.e., transitions from state (k, i ) to state (k, i + 1).\n",
    "- $A_2$: The matrices A2 represent arrivals at rate λ which can occur during service at any phase i at any level k > 0, i.e., transitions from state (k, i ) which are all equal to λ.\n",
    "- $B_{01}$: A 1 × r row matrix all of whose elements are zero except for the first which is equal to $\\lambda$. This is the rate of transition from state (0, 0) to state (1, 1) and corresponds to an arrival to an empty system.\n",
    "- $B_{10}$: A r × 1 column matrix all of whose elements are zero except for the last which is equal to $\\mu_r$. This is the rate of transition from state (1, r) to state (0, 0) and corresponds to the complete service termination of the only customer in the system.\n",
    "- $B_{00}$: A 1×1 matrix whose nonzero element is $-\\lambda$ and reflects the fact that the sum across the first row must be zero.\n",
    "\n",
    "$A_0=\\begin{pmatrix}\n",
    "0 & 0  & 0 & 0 & \\ldots & 0\\\\ \n",
    "0 & 0 & 0 & \\ldots & \\ldots &0 \\\\ \n",
    " 0& 0 &  0 & 0  & \\ldots &0 \\\\ \n",
    " 0&  0& 0 &  0  & \\ldots & 0\\\\ \n",
    " \\vdots& \\vdots & \\vdots & \\vdots &\\ddots & \\vdots\\\\ \n",
    " \\mu_r & 0 & 0 & 0 & \\ldots & 0\n",
    "\\end{pmatrix}$,$A_2=\\lambda I_r$, $A_1 = \\begin{pmatrix}\n",
    "-\\lambda-\\mu_1 & \\mu_1  & 0 & 0 & \\ldots & 0\\\\ \n",
    "0 & -\\lambda-\\mu_2 & \\mu_2 & 0 & \\ldots &0 \\\\ \n",
    "0 & 0 &  -\\lambda-\\mu_3 & \\mu_3  & \\ldots &0 \\\\ \n",
    "\\vdots& \\vdots & \\vdots & \\ddots &\\ddots & \\vdots\\\\ \n",
    "0&  0& 0 &  0  & \\vdots & \\mu_{r-1}\\\\\n",
    " 0 & 0 & 0 & 0 & \\ldots & -\\lambda-\\mu_r\n",
    "\\end{pmatrix}$\n",
    "\n",
    "$B_{00}=-\\lambda$,$B_{01}=\\begin{pmatrix}\n",
    "\\lambda & 0 & 0 & \\ldots & 0\n",
    "\\end{pmatrix}$,$B_{10}=\\begin{pmatrix}\n",
    "0\\\\ \n",
    "0\\\\  \n",
    "\\vdots\\\\ \n",
    "0 \\\\\n",
    "\\mu_r\n",
    "\\end{pmatrix}$\n"
   ]
  },
  {
   "cell_type": "code",
   "execution_count": 217,
   "metadata": {},
   "outputs": [],
   "source": [
    "import numpy as np\n",
    "from numpy import kron,eye,zeros,ones,multiply,dot\n",
    "from numpy.linalg import inv,norm,matrix_power"
   ]
  },
  {
   "cell_type": "code",
   "execution_count": 161,
   "metadata": {},
   "outputs": [
    {
     "name": "stdout",
     "output_type": "stream",
     "text": [
      "A0: [[0. 0.]\n",
      " [4. 0.]] \n",
      " A1: [[-9.  8.]\n",
      " [ 0. -5.]] \n",
      " A2: [[1. 0.]\n",
      " [0. 1.]] \n",
      " B00: [-1] \n",
      " B01: [1 0] \n",
      " B10: [[0.]\n",
      " [4.]]\n"
     ]
    }
   ],
   "source": [
    "# M/HYPO2/1\n",
    "## M Arrival Process:\n",
    "lambda1 = 1\n",
    "T = [-lambda1]\n",
    "T0 = [lambda1]\n",
    "xi = [1]\n",
    "\n",
    "## E_2 Service Process:\n",
    "mu1=8\n",
    "mu2=4\n",
    "S = [[-mu1, mu1],\n",
    "     [0, -mu2]]\n",
    "S0 = [[0],[mu2]]\n",
    "sigma = [1,0]\n",
    "\n",
    "## Block Submatrices for all types of queues:\n",
    "ra = len(T)\n",
    "rs = len(S[0])\n",
    "A0 = kron(eye(ra), multiply(S0,sigma))\n",
    "A1 = kron(T, eye(rs)) + kron(eye(ra), S)\n",
    "A2 = kron(multiply(T0,xi), eye(rs))\n",
    "B00 = T\n",
    "B01 = kron(multiply(T0,xi),sigma)\n",
    "B10 = kron(eye(ra),S0)\n",
    "l = len(B00)\n",
    "r = len(A0[0])\n",
    "\n",
    "print(\"A0:\",A0,'\\n',\"A1:\",A1,'\\n',\"A2:\",A2,'\\n',\"B00:\",B00,'\\n',\"B01:\",B01,'\\n',\"B10:\",B10)\n",
    "\n",
    "# Form Neuts’ R matrix  \n",
    "V = dot(A2, inv(A1))\n",
    "W = dot(A0, inv(A1))\n",
    "R = zeros((r,r)) \n",
    "Rbis = -V - dot(dot(R,R), W)\n",
    "n = 1\n",
    "err = 1.0e-10\n",
    "while (norm(R-Rbis,1) > err):\n",
    "    R = Rbis\n",
    "    Rbis = -V - dot(dot(R,R), W)\n",
    "    n = n+1\n",
    "R = Rbis"
   ]
  },
  {
   "cell_type": "code",
   "execution_count": 153,
   "metadata": {},
   "outputs": [
    {
     "data": {
      "text/plain": [
       "array([[0.15625, 0.25   ],\n",
       "       [0.03125, 0.25   ]])"
      ]
     },
     "execution_count": 153,
     "metadata": {},
     "output_type": "execute_result"
    }
   ],
   "source": [
    "R"
   ]
  },
  {
   "cell_type": "code",
   "execution_count": 154,
   "metadata": {},
   "outputs": [
    {
     "data": {
      "text/plain": [
       "32"
      ]
     },
     "execution_count": 154,
     "metadata": {},
     "output_type": "execute_result"
    }
   ],
   "source": [
    "n"
   ]
  },
  {
   "cell_type": "code",
   "execution_count": 155,
   "metadata": {},
   "outputs": [
    {
     "data": {
      "text/plain": [
       "0.125"
      ]
     },
     "execution_count": 155,
     "metadata": {},
     "output_type": "execute_result"
    }
   ],
   "source": [
    "# check stability\n",
    "meanLambda = lambda1\n",
    "meanMu = 1/norm(-(sigma * inv(S)),1)\n",
    "rho = meanLambda/meanMu\n",
    "rho"
   ]
  },
  {
   "cell_type": "code",
   "execution_count": 221,
   "metadata": {},
   "outputs": [
    {
     "name": "stdout",
     "output_type": "stream",
     "text": [
      "[1.] [0.15625 0.25   ]\n",
      "[0.625] [0.09765625 0.15625   ]\n",
      "[[6.25000000e-01]\n",
      " [1.56250000e-01]\n",
      " [7.81250000e-02]\n",
      " [2.68554687e-02]\n",
      " [8.46862793e-03]\n",
      " [2.60114670e-03]\n",
      " [7.92071223e-04]\n",
      " [2.40493100e-04]\n",
      " [7.29480961e-05]\n",
      " [2.21197547e-05]\n",
      " [6.70652233e-06]]\n",
      "0.44726562494828637 0.44726562494828637\n"
     ]
    }
   ],
   "source": [
    "# Solve boundary equations\n",
    "head = np.concatenate((np.array(B00),B01),axis=0)\n",
    "tail = np.concatenate((B10,A1+dot(R,A0)),axis=1)\n",
    "N = np.vstack((head,tail))\n",
    "\n",
    "N[0,r] = 1\n",
    "for k in range(1,r+1):\n",
    "    N[k,r]=0\n",
    "\n",
    "rhs = zeros(r+1)\n",
    "rhs[r] = 1\n",
    "\n",
    "soln = dot(rhs,inv(N))\n",
    "pi0 = soln[:1]\n",
    "pi1 = soln[1:]\n",
    "print(pi0,pi1)\n",
    "\n",
    "e = ones((r,1))\n",
    "sumation = norm(pi0,1) + dot(dot(pi1, inv(eye(r)-R)), e)\n",
    "pi0 = pi0/sumation\n",
    "pi1 = pi1/sumation\n",
    "print(pi0,pi1)\n",
    "\n",
    "# Print results\n",
    "max = 10 # maximum population requested \n",
    "pop = zeros((max+1,1))\n",
    "pop[0,0] = norm(pi0,1)\n",
    "for k in range(1,max+1):\n",
    "    pi = pi1 * matrix_power(R,(k-1)) # Get successive components of pi\n",
    "    pop[k,0] = norm(pi,1)\n",
    "print(pop)\n",
    "\n",
    "# Measures of Effectiveness\n",
    "EN = norm(pi1*matrix_power(inv(eye(r)-R),2),1)\n",
    "ER = EN/meanLambda\n",
    "print(EN,ER)"
   ]
  },
  {
   "cell_type": "markdown",
   "metadata": {},
   "source": [
    "# Example 12.1"
   ]
  },
  {
   "cell_type": "code",
   "execution_count": 149,
   "metadata": {},
   "outputs": [
    {
     "name": "stdout",
     "output_type": "stream",
     "text": [
      "A0: [[0.  0.  0. ]\n",
      " [0.  0.  0. ]\n",
      " [4.5 0.  0. ]] \n",
      " A1: [[-5.5  4.5  0. ]\n",
      " [ 0.  -5.5  4.5]\n",
      " [ 0.   0.  -5.5]] \n",
      " A2: [[1. 0. 0.]\n",
      " [0. 1. 0.]\n",
      " [0. 0. 1.]] \n",
      " B00: [-1] \n",
      " B01: [1 0 0] \n",
      " B10: [[0. ]\n",
      " [0. ]\n",
      " [4.5]]\n"
     ]
    }
   ],
   "source": [
    "## M Arrival Process:\n",
    "lambda1 = 1\n",
    "T = [-lambda1]\n",
    "T0 = [lambda1]\n",
    "xi = [1]\n",
    "\n",
    "## E_2 Service Process:\n",
    "r = 3\n",
    "mu = 1.5\n",
    "mu1,mu2,mu3 = r*mu, r*mu, r*mu\n",
    "\n",
    "S = [[-mu1, mu1,0],\n",
    "     [0, -mu2,mu2],\n",
    "    [0,0,-mu3]]\n",
    "S0 = [[0],[0],[mu3]]\n",
    "sigma = [1,0,0]\n",
    "\n",
    "## Block Submatrices for all types of queues:\n",
    "ra = len(T)\n",
    "rs = len(S[0])\n",
    "A0 = kron(eye(ra), multiply(S0,sigma))\n",
    "A1 = kron(T, eye(rs)) + kron(eye(ra), S)\n",
    "A2 = kron(multiply(T0,xi), eye(rs))\n",
    "B00 = T\n",
    "B01 = kron(multiply(T0,xi),sigma)\n",
    "B10 = kron(eye(ra),S0)\n",
    "l = len(B00)\n",
    "r = len(A0[0])\n",
    "\n",
    "print(\"A0:\",A0,'\\n',\"A1:\",A1,'\\n',\"A2:\",A2,'\\n',\"B00:\",B00,'\\n',\"B01:\",B01,'\\n',\"B10:\",B10)\n",
    "\n",
    "# Form Neuts’ R matrix  \n",
    "V = dot(A2, inv(A1))\n",
    "W = dot(A0, inv(A1))\n",
    "R = np.zeros((r,r)) \n",
    "Rbis = -V - dot(dot(R,R), W)\n",
    "n = 1\n",
    "err = 1.0e-10\n",
    "while (norm(R-Rbis,1) > err):\n",
    "    R = Rbis\n",
    "    Rbis = -V - dot(dot(R,R), W)\n",
    "    n = n+1\n",
    "R = Rbis"
   ]
  },
  {
   "cell_type": "code",
   "execution_count": 150,
   "metadata": {},
   "outputs": [
    {
     "data": {
      "text/plain": [
       "73"
      ]
     },
     "execution_count": 150,
     "metadata": {},
     "output_type": "execute_result"
    }
   ],
   "source": [
    "n"
   ]
  },
  {
   "cell_type": "code",
   "execution_count": 151,
   "metadata": {},
   "outputs": [
    {
     "data": {
      "text/plain": [
       "array([[0.33196159, 0.27160494, 0.22222222],\n",
       "       [0.10973937, 0.27160494, 0.22222222],\n",
       "       [0.06035665, 0.04938272, 0.22222222]])"
      ]
     },
     "execution_count": 151,
     "metadata": {},
     "output_type": "execute_result"
    }
   ],
   "source": [
    "R"
   ]
  },
  {
   "cell_type": "code",
   "execution_count": null,
   "metadata": {},
   "outputs": [],
   "source": []
  }
 ],
 "metadata": {
  "kernelspec": {
   "display_name": "Python 3.9.0",
   "language": "python",
   "name": "python3.9"
  },
  "language_info": {
   "codemirror_mode": {
    "name": "ipython",
    "version": 3
   },
   "file_extension": ".py",
   "mimetype": "text/x-python",
   "name": "python",
   "nbconvert_exporter": "python",
   "pygments_lexer": "ipython3",
   "version": "3.9.0"
  }
 },
 "nbformat": 4,
 "nbformat_minor": 4
}
