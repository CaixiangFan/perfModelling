{
 "cells": [
  {
   "cell_type": "code",
   "execution_count": 20,
   "metadata": {},
   "outputs": [],
   "source": [
    "from numpy import kron,eye,multiply"
   ]
  },
  {
   "cell_type": "code",
   "execution_count": 4,
   "metadata": {},
   "outputs": [],
   "source": [
    "## H_2 Arrival Process:\n",
    "alpha1 = 0.4\n",
    "alpha2 = 0.6\n",
    "lambda1 = 1\n",
    "lambda2 = 2\n",
    "T = [[-lambda1, 0], \n",
    "     [0, -lambda2]]\n",
    "T0 = [[lambda1],[lambda2]]\n",
    "xi = [alpha1, alpha2]"
   ]
  },
  {
   "cell_type": "code",
   "execution_count": 15,
   "metadata": {},
   "outputs": [],
   "source": [
    "## E_3 Service Process:\n",
    "mu1=4\n",
    "mu2=8\n",
    "mu3=8\n",
    "S = [[-mu1, mu1, 0],\n",
    "     [0, -mu2, mu2],\n",
    "     [0,0, -mu3]]\n",
    "S0 = [[0],[0],[mu3]]\n",
    "sigma = [1,0,0]"
   ]
  },
  {
   "cell_type": "code",
   "execution_count": 22,
   "metadata": {},
   "outputs": [],
   "source": [
    "## Block Submatrices for all types of queues:\n",
    "ra = len(T[0])\n",
    "rs = len(S[0])\n",
    "A0 = kron(eye(ra), multiply(S0,sigma))\n",
    "A1 = kron(T, eye(rs)) + kron(eye(ra), S)\n",
    "A2 = kron(multiply(T0,xi), eye(rs))\n",
    "B00 = T\n",
    "B01 = kron(multiply(T0,xi),sigma)\n",
    "B10 = kron(eye(ra),S0)\n",
    "l = len(B00[0])\n",
    "r = len(A0[0])"
   ]
  }
 ],
 "metadata": {
  "kernelspec": {
   "display_name": "Python 3.9.0",
   "language": "python",
   "name": "python3.9"
  },
  "language_info": {
   "codemirror_mode": {
    "name": "ipython",
    "version": 3
   },
   "file_extension": ".py",
   "mimetype": "text/x-python",
   "name": "python",
   "nbconvert_exporter": "python",
   "pygments_lexer": "ipython3",
   "version": "3.9.0"
  }
 },
 "nbformat": 4,
 "nbformat_minor": 4
}
